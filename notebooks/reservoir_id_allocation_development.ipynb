{
 "cells": [
  {
   "cell_type": "markdown",
   "metadata": {},
   "source": [
    "Development of the code that will be used by the reservoir class to associate provided points (or reservoir shapes with the SWOT Prior lake database)"
   ]
  },
  {
   "cell_type": "code",
   "execution_count": 1,
   "metadata": {},
   "outputs": [],
   "source": [
    "import geopandas as gpd"
   ]
  },
  {
   "cell_type": "code",
   "execution_count": 2,
   "metadata": {},
   "outputs": [],
   "source": [
    "file_path = r\"C:\\Users\\cwch\\Projects\\WR-Collaboration\\rk-altimetry\\data\\priors\\SWOT_LakeDatabaseSci_AS_44_20000101T000000_20991231T235959_20231017T000000_v105.sqlite\"\n",
    "\n",
    "prior_lakes = gpd.read_file(file_path, layer='lake', columns='lake_id')"
   ]
  },
  {
   "cell_type": "code",
   "execution_count": 3,
   "metadata": {},
   "outputs": [
    {
     "data": {
      "text/html": [
       "<div>\n",
       "<style scoped>\n",
       "    .dataframe tbody tr th:only-of-type {\n",
       "        vertical-align: middle;\n",
       "    }\n",
       "\n",
       "    .dataframe tbody tr th {\n",
       "        vertical-align: top;\n",
       "    }\n",
       "\n",
       "    .dataframe thead th {\n",
       "        text-align: right;\n",
       "    }\n",
       "</style>\n",
       "<table border=\"1\" class=\"dataframe\">\n",
       "  <thead>\n",
       "    <tr style=\"text-align: right;\">\n",
       "      <th></th>\n",
       "      <th>geometry</th>\n",
       "    </tr>\n",
       "  </thead>\n",
       "  <tbody>\n",
       "    <tr>\n",
       "      <th>0</th>\n",
       "      <td>MULTIPOLYGON (((108.43122 11.05958, 108.42984 ...</td>\n",
       "    </tr>\n",
       "    <tr>\n",
       "      <th>1</th>\n",
       "      <td>MULTIPOLYGON (((108.50123 11.24776, 108.50096 ...</td>\n",
       "    </tr>\n",
       "    <tr>\n",
       "      <th>2</th>\n",
       "      <td>MULTIPOLYGON (((108.27775 11.22204, 108.27693 ...</td>\n",
       "    </tr>\n",
       "    <tr>\n",
       "      <th>3</th>\n",
       "      <td>MULTIPOLYGON (((107.58608 11.22668, 107.58554 ...</td>\n",
       "    </tr>\n",
       "    <tr>\n",
       "      <th>4</th>\n",
       "      <td>MULTIPOLYGON (((107.54241 11.22407, 107.54186 ...</td>\n",
       "    </tr>\n",
       "    <tr>\n",
       "      <th>...</th>\n",
       "      <td>...</td>\n",
       "    </tr>\n",
       "    <tr>\n",
       "      <th>42273</th>\n",
       "      <td>MULTIPOLYGON (((93.47275 8.11525, 93.47275 8.1...</td>\n",
       "    </tr>\n",
       "    <tr>\n",
       "      <th>42274</th>\n",
       "      <td>MULTIPOLYGON (((93.501 8.11525, 93.501 8.11475...</td>\n",
       "    </tr>\n",
       "    <tr>\n",
       "      <th>42275</th>\n",
       "      <td>MULTIPOLYGON (((93.71375 7.18925, 93.71375 7.1...</td>\n",
       "    </tr>\n",
       "    <tr>\n",
       "      <th>42276</th>\n",
       "      <td>MULTIPOLYGON (((93.71875 7.40525, 93.71875 7.4...</td>\n",
       "    </tr>\n",
       "    <tr>\n",
       "      <th>42277</th>\n",
       "      <td>MULTIPOLYGON (((93.666 7.1245, 93.666 7.12475,...</td>\n",
       "    </tr>\n",
       "  </tbody>\n",
       "</table>\n",
       "<p>42278 rows × 1 columns</p>\n",
       "</div>"
      ],
      "text/plain": [
       "                                                geometry\n",
       "0      MULTIPOLYGON (((108.43122 11.05958, 108.42984 ...\n",
       "1      MULTIPOLYGON (((108.50123 11.24776, 108.50096 ...\n",
       "2      MULTIPOLYGON (((108.27775 11.22204, 108.27693 ...\n",
       "3      MULTIPOLYGON (((107.58608 11.22668, 107.58554 ...\n",
       "4      MULTIPOLYGON (((107.54241 11.22407, 107.54186 ...\n",
       "...                                                  ...\n",
       "42273  MULTIPOLYGON (((93.47275 8.11525, 93.47275 8.1...\n",
       "42274  MULTIPOLYGON (((93.501 8.11525, 93.501 8.11475...\n",
       "42275  MULTIPOLYGON (((93.71375 7.18925, 93.71375 7.1...\n",
       "42276  MULTIPOLYGON (((93.71875 7.40525, 93.71875 7.4...\n",
       "42277  MULTIPOLYGON (((93.666 7.1245, 93.666 7.12475,...\n",
       "\n",
       "[42278 rows x 1 columns]"
      ]
     },
     "execution_count": 3,
     "metadata": {},
     "output_type": "execute_result"
    }
   ],
   "source": [
    "prior_lakes"
   ]
  },
  {
   "cell_type": "code",
   "execution_count": 4,
   "metadata": {},
   "outputs": [
    {
     "data": {
      "text/html": [
       "<div>\n",
       "<style scoped>\n",
       "    .dataframe tbody tr th:only-of-type {\n",
       "        vertical-align: middle;\n",
       "    }\n",
       "\n",
       "    .dataframe tbody tr th {\n",
       "        vertical-align: top;\n",
       "    }\n",
       "\n",
       "    .dataframe thead th {\n",
       "        text-align: right;\n",
       "    }\n",
       "</style>\n",
       "<table border=\"1\" class=\"dataframe\">\n",
       "  <thead>\n",
       "    <tr style=\"text-align: right;\">\n",
       "      <th></th>\n",
       "      <th>geometry</th>\n",
       "    </tr>\n",
       "  </thead>\n",
       "  <tbody>\n",
       "    <tr>\n",
       "      <th>0</th>\n",
       "      <td>MULTIPOLYGON (((108.43122 11.05958, 108.42984 ...</td>\n",
       "    </tr>\n",
       "    <tr>\n",
       "      <th>1</th>\n",
       "      <td>MULTIPOLYGON (((108.50123 11.24776, 108.50096 ...</td>\n",
       "    </tr>\n",
       "    <tr>\n",
       "      <th>2</th>\n",
       "      <td>MULTIPOLYGON (((108.27775 11.22204, 108.27693 ...</td>\n",
       "    </tr>\n",
       "    <tr>\n",
       "      <th>3</th>\n",
       "      <td>MULTIPOLYGON (((107.58608 11.22668, 107.58554 ...</td>\n",
       "    </tr>\n",
       "    <tr>\n",
       "      <th>4</th>\n",
       "      <td>MULTIPOLYGON (((107.54241 11.22407, 107.54186 ...</td>\n",
       "    </tr>\n",
       "  </tbody>\n",
       "</table>\n",
       "</div>"
      ],
      "text/plain": [
       "                                            geometry\n",
       "0  MULTIPOLYGON (((108.43122 11.05958, 108.42984 ...\n",
       "1  MULTIPOLYGON (((108.50123 11.24776, 108.50096 ...\n",
       "2  MULTIPOLYGON (((108.27775 11.22204, 108.27693 ...\n",
       "3  MULTIPOLYGON (((107.58608 11.22668, 107.58554 ...\n",
       "4  MULTIPOLYGON (((107.54241 11.22407, 107.54186 ..."
      ]
     },
     "execution_count": 4,
     "metadata": {},
     "output_type": "execute_result"
    }
   ],
   "source": [
    "prior_lakes.head()\n"
   ]
  },
  {
   "cell_type": "code",
   "execution_count": null,
   "metadata": {},
   "outputs": [],
   "source": []
  },
  {
   "cell_type": "code",
   "execution_count": null,
   "metadata": {},
   "outputs": [],
   "source": []
  }
 ],
 "metadata": {
  "kernelspec": {
   "display_name": "rk-altimetry",
   "language": "python",
   "name": "python3"
  },
  "language_info": {
   "codemirror_mode": {
    "name": "ipython",
    "version": 3
   },
   "file_extension": ".py",
   "mimetype": "text/x-python",
   "name": "python",
   "nbconvert_exporter": "python",
   "pygments_lexer": "ipython3",
   "version": "3.12.7"
  }
 },
 "nbformat": 4,
 "nbformat_minor": 2
}
